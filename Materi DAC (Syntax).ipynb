{
  "nbformat": 4,
  "nbformat_minor": 0,
  "metadata": {
    "colab": {
      "provenance": [],
      "include_colab_link": true
    },
    "kernelspec": {
      "name": "python3",
      "display_name": "Python 3"
    },
    "language_info": {
      "name": "python"
    }
  },
  "cells": [
    {
      "cell_type": "markdown",
      "metadata": {
        "id": "view-in-github",
        "colab_type": "text"
      },
      "source": [
        "<a href=\"https://colab.research.google.com/github/RafdhiFatoni/ISE-Data-Science-Academy/blob/main/Materi%20DAC%20(Syntax).ipynb\" target=\"_parent\"><img src=\"https://colab.research.google.com/assets/colab-badge.svg\" alt=\"Open In Colab\"/></a>"
      ]
    },
    {
      "cell_type": "markdown",
      "source": [
        "<h1><b>Data Preprocessing<b></h1>"
      ],
      "metadata": {
        "id": "zyQMhg4snscf"
      }
    },
    {
      "cell_type": "markdown",
      "source": [
        "<h3><b>Membuat Data Frame"
      ],
      "metadata": {
        "id": "_GfrXjgzeBLI"
      }
    },
    {
      "cell_type": "code",
      "source": [
        "import pandas as pd\n",
        "import numpy as np"
      ],
      "metadata": {
        "id": "KfhNG9LKo1Hk"
      },
      "execution_count": null,
      "outputs": []
    },
    {
      "cell_type": "code",
      "source": [
        "# Cara membuat array dengan library Numpy\n",
        "nilai_matkul_a = np.array([76,98,80,84])\n",
        "nilai_matkul_b = np.array([92,90,82,84])\n",
        "print(f\"Nilai matkul a = {nilai_matkul_a}\")\n",
        "print(f\"Nilai matkul b = {nilai_matkul_b}\")"
      ],
      "metadata": {
        "id": "ClY-uFQUxeB5"
      },
      "execution_count": null,
      "outputs": []
    },
    {
      "cell_type": "code",
      "source": [
        "# Cara menjumlahkan array\n",
        "hasil_nilai = nilai_matkul_a + nilai_matkul_b\n",
        "print(f\"Hasil penjumlahan array = {hasil_nilai}\")"
      ],
      "metadata": {
        "id": "89FZogScx6cM"
      },
      "execution_count": null,
      "outputs": []
    },
    {
      "cell_type": "code",
      "source": [
        "# Satatistika deskriptif pada array\n",
        "nilai_siswa = np.array([55, 43, 98, 76 ,65 ,77 ,65, 90])\n",
        "print(\"Nilai minimal \\t=\", nilai_siswa.min())\n",
        "print(\"Nilai maksimal \\t=\", nilai_siswa.max())\n",
        "print(\"Nilai rata-rata =\", nilai_siswa.mean())\n",
        "print(\"Total nilai \\t=\", nilai_siswa.sum())\n",
        "print(\"Standar Deviasi =\", nilai_siswa.std())"
      ],
      "metadata": {
        "id": "SJr0jaYtyM6J"
      },
      "execution_count": null,
      "outputs": []
    },
    {
      "cell_type": "code",
      "source": [
        "# Cara membuat data frame 1 kolom menggunakan library Pandas\n",
        "data2 = [1,2,3,4,5]\n",
        "df = pd.DataFrame(data2)\n",
        "print(df)"
      ],
      "metadata": {
        "id": "lHXOEHtFytYw"
      },
      "execution_count": null,
      "outputs": []
    },
    {
      "cell_type": "code",
      "source": [
        "# Cara membuat data frame 2 kolom menggunakan library Pandas\n",
        "data3 = [['Alex',10],['Bob',12],['Clarke',13]]\n",
        "df = pd.DataFrame(data3,columns=['Name','Age'])\n",
        "print(df)"
      ],
      "metadata": {
        "id": "Hf6zgneZzQyi"
      },
      "execution_count": null,
      "outputs": []
    },
    {
      "cell_type": "code",
      "source": [
        "# Cara menambahkan data baris\n",
        "# NOTE: angka 3 menunjukkan indeks dari data yang akan kita tambahkan\n",
        "df.loc['3']=['Billy',11]\n",
        "df"
      ],
      "metadata": {
        "id": "d3ZLOAQOznTB"
      },
      "execution_count": null,
      "outputs": []
    },
    {
      "cell_type": "code",
      "source": [
        "# Cara menambahkan data kolom\n",
        "df['Sex']=['M','M','F','M']\n",
        "df"
      ],
      "metadata": {
        "id": "dHQoRGlC0iSZ"
      },
      "execution_count": null,
      "outputs": []
    },
    {
      "cell_type": "code",
      "source": [
        "# Cara menghilangkan salah satu data kolom\n",
        "df.drop('Sex',axis=1)"
      ],
      "metadata": {
        "id": "xRjZJXeA1CJl"
      },
      "execution_count": null,
      "outputs": []
    },
    {
      "cell_type": "code",
      "source": [
        "# Cara menghilangkan salah satu data baris\n",
        "df.drop('3',axis=0)"
      ],
      "metadata": {
        "id": "5hMVUQMn1lIB"
      },
      "execution_count": null,
      "outputs": []
    },
    {
      "cell_type": "code",
      "source": [
        "# Cara membuat data frame menggunakan dictionary dan library Pandas\n",
        "data4 = {'x':[12,20,28,18,29,33,27,45,45,52,51,52,55,53,55,61,64,69,72],\n",
        "         'y':[39,36,30,52,54,46,55,59,63,70,66,63,58,23,14,8,19,7,24]}\n",
        "df = pd.DataFrame(data4,columns=['x','y'])\n",
        "df"
      ],
      "metadata": {
        "id": "gGTgPNJZ1z8M"
      },
      "execution_count": null,
      "outputs": []
    },
    {
      "cell_type": "code",
      "source": [
        "# Cara menampilkan nilai jumlah data pada setiap kolom\n",
        "print(df['x'].sum())\n",
        "print(df['y'].sum())"
      ],
      "metadata": {
        "id": "sQ5C70by2few"
      },
      "execution_count": null,
      "outputs": []
    },
    {
      "cell_type": "code",
      "source": [
        "# Cara menampilkan nilai rata-rata data pada setiap kolom\n",
        "print(df['x'].mean())\n",
        "print(df['y'].mean())"
      ],
      "metadata": {
        "id": "9CHvgLaN239X"
      },
      "execution_count": null,
      "outputs": []
    },
    {
      "cell_type": "code",
      "source": [
        "# Cara menampilkan nilai maksimum data pada setiap kolom\n",
        "print(df['x'].max())\n",
        "print(df['y'].max())"
      ],
      "metadata": {
        "id": "XmdRmr1z3HRp"
      },
      "execution_count": null,
      "outputs": []
    },
    {
      "cell_type": "code",
      "source": [
        "# Cara menampilkan nilai minimum data pada setiap kolom\n",
        "print(df['x'].min())\n",
        "print(df['y'].min())"
      ],
      "metadata": {
        "id": "rByy1GJx3ShK"
      },
      "execution_count": null,
      "outputs": []
    },
    {
      "cell_type": "code",
      "source": [
        "# Cara menampilkan nilai standar deviasi data pada setiap kolom\n",
        "print(df['x'].std())\n",
        "print(df['y'].std())"
      ],
      "metadata": {
        "id": "keZQHJ2Q3eDU"
      },
      "execution_count": null,
      "outputs": []
    },
    {
      "cell_type": "code",
      "source": [
        "# Cara membuat data frame menggunakan library Pandas yang langsung diinisiasi pada dictionary\n",
        "data5 = {'Name':pd.Series(['Tom','James','Ricky','Vin','Steve','Smith','Jack','Lee','David','Gasper','Betina','Andres']),\n",
        "         'Age':pd.Series([25,26,25,23,30,29,23,34,40,30,51,46]),\n",
        "         'Rating':pd.Series([4.23,3.24,3.98,2.56,3.20,4.6,3.8,3.78,2.98,4.80,4.10,3.65])}\n",
        "\n",
        "# Create a DataFrame\n",
        "df = pd.DataFrame(data5)\n",
        "print(df)"
      ],
      "metadata": {
        "id": "HchIIxrY3nME"
      },
      "execution_count": null,
      "outputs": []
    },
    {
      "cell_type": "markdown",
      "source": [
        "<h3><b>Data Formatting"
      ],
      "metadata": {
        "id": "htXxKWIP6TF-"
      }
    },
    {
      "cell_type": "code",
      "execution_count": null,
      "metadata": {
        "id": "qJMxDEt8nrG0"
      },
      "outputs": [],
      "source": [
        "# Inisiasi path data\n",
        "path_data6 = \"/content/data_formatting.csv\""
      ]
    },
    {
      "cell_type": "code",
      "source": [
        "# Mengimport data\n",
        "# NOTE: delimiter berfungsi untuk memisahkan data dengan karakter ; sebagai pemisah\n",
        "data6 = pd.read_csv(\"data_formatting.csv\", delimiter=';')\n",
        "data6"
      ],
      "metadata": {
        "id": "UU9K3UARn7Ra"
      },
      "execution_count": null,
      "outputs": []
    },
    {
      "cell_type": "code",
      "source": [
        "# Update nama kolom\n",
        "data6.columns = ['Index','Name','Sex','Age','Debt','Other']\n",
        "data6"
      ],
      "metadata": {
        "id": "qCWhKBIq8TFJ"
      },
      "execution_count": null,
      "outputs": []
    },
    {
      "cell_type": "code",
      "source": [
        "# Drop kolom terakhir yang tidak bernilai\n",
        "# NOTE: axis=1 menunjukkan bahwa yang dihapus (drop) adalah kolom\n",
        "# NOTE: inplace=True menujukkan perubahan akan diterapkan langsung pada objek DataFrame, tanpa perlu menetapkan hasilnya ke variabel baru\n",
        "data6.drop('Other',axis=1,inplace=True)\n",
        "data6"
      ],
      "metadata": {
        "id": "jeQxtH-soyqw"
      },
      "execution_count": null,
      "outputs": []
    },
    {
      "cell_type": "code",
      "source": [
        "# Drop untuk baris yang duplikat\n",
        "data6.drop_duplicates(inplace=True)\n",
        "data6"
      ],
      "metadata": {
        "id": "f-zjZRPd5Afv"
      },
      "execution_count": null,
      "outputs": []
    },
    {
      "cell_type": "code",
      "source": [
        "# Mengecek tipe data\n",
        "data6.dtypes"
      ],
      "metadata": {
        "id": "9OSS_xq1-waX"
      },
      "execution_count": null,
      "outputs": []
    },
    {
      "cell_type": "code",
      "source": [
        "# Membuang nilai u pada kolom Debt\n",
        "data6['Debt'] = data6['Debt'].str.replace('u','')\n",
        "data6"
      ],
      "metadata": {
        "id": "3gokpTGg_CIG"
      },
      "execution_count": null,
      "outputs": []
    },
    {
      "cell_type": "code",
      "source": [
        "# Konversi Debt ke data numerik\n",
        "data6['Debt'] = pd.to_numeric(data6['Debt'])\n",
        "data6.dtypes"
      ],
      "metadata": {
        "id": "pE-GbCvEqi2H"
      },
      "execution_count": null,
      "outputs": []
    },
    {
      "cell_type": "code",
      "source": [
        "# Mencari tahu jenis-jenis data pada kolom Sex\n",
        "print(data1['Sex'].value_counts(),'\\n')"
      ],
      "metadata": {
        "id": "ZjMV3MdtCAdh"
      },
      "execution_count": null,
      "outputs": []
    },
    {
      "cell_type": "code",
      "source": [
        "# Merubah data pada kolom Sex menjadi M dan F\n",
        "sex_map = {'Man':'M','Male':'M','male':'M','Female':'F','female':'F','woman':'F','Woman':'F'}\n",
        "\n",
        "data6['Sex'] = data6['Sex'].map(sex_map)\n",
        "data6"
      ],
      "metadata": {
        "id": "lWB-A7n7o531"
      },
      "execution_count": null,
      "outputs": []
    },
    {
      "cell_type": "code",
      "source": [
        "# Menghubungkan Google Drive ke dalam Google Colab\n",
        "# NOTE: Google Drive akan terhubung dan dapat diakses melalui direktori khusus yang disebut '/content/drive' di dalam lingkungan Colab.\n",
        "from google.colab import drive\n",
        "drive.mount('/content/drive')"
      ],
      "metadata": {
        "id": "JINVoWmnsMLU"
      },
      "execution_count": null,
      "outputs": []
    },
    {
      "cell_type": "markdown",
      "source": [
        "<h3><b>Missing Value dan Outlier"
      ],
      "metadata": {
        "id": "QOvQsIifHrnm"
      }
    },
    {
      "cell_type": "code",
      "source": [
        "# Inisiasi path data\n",
        "path_dataset = \"/content/movie_metadata.csv\""
      ],
      "metadata": {
        "id": "d2MRxpp8GaNw"
      },
      "execution_count": null,
      "outputs": []
    },
    {
      "cell_type": "code",
      "source": [
        "# Mengimport data\n",
        "data7 = pd.read_csv('movie_metadata.csv')\n",
        "data7.head()"
      ],
      "metadata": {
        "id": "BMFkxOLmIfWp"
      },
      "execution_count": null,
      "outputs": []
    },
    {
      "cell_type": "code",
      "source": [
        "# Library untuk keperluan pembuatan grafik\n",
        "import matplotlib.pyplot as plt\n",
        "import seaborn as sns"
      ],
      "metadata": {
        "id": "v_MwWP38JB1B"
      },
      "execution_count": null,
      "outputs": []
    },
    {
      "cell_type": "code",
      "source": [
        "# Menampilkan outlier pada kolom budget\n",
        "sns.boxplot(data7['budget'])\n",
        "plt.show()"
      ],
      "metadata": {
        "id": "teHRfi8vJ7pd"
      },
      "execution_count": null,
      "outputs": []
    },
    {
      "cell_type": "code",
      "source": [
        "# Menampilkan outlier pada kolom duration\n",
        "sns.boxplot(data7['duration'])\n",
        "plt.show()"
      ],
      "metadata": {
        "id": "9CSXQCpXKWWN"
      },
      "execution_count": null,
      "outputs": []
    },
    {
      "cell_type": "code",
      "source": [
        "# Menampilkan outlier pada kolom gross\n",
        "sns.boxplot(data7['gross'])\n",
        "plt.show()"
      ],
      "metadata": {
        "id": "5zwcAzLlKhE6"
      },
      "execution_count": null,
      "outputs": []
    },
    {
      "cell_type": "code",
      "source": [
        "# Menampilkan jumlah missing value pada setiap kolom\n",
        "np.sum(data7.isnull())"
      ],
      "metadata": {
        "id": "JwczxKizKp4p"
      },
      "execution_count": null,
      "outputs": []
    },
    {
      "cell_type": "code",
      "source": [
        "# Mengisi missing value dengan median\n",
        "data7['budget'] = data7['budget'].fillna((data7['budget'].median()))\n",
        "data7['duration'] = data7['duration'].fillna((data7['duration'].median()))\n",
        "data7['gross'] = data7['gross'].fillna((data7['gross'].median()))\n",
        "\n",
        "np.sum(data7.isnull())"
      ],
      "metadata": {
        "id": "NmJ98g2tLU1r"
      },
      "execution_count": null,
      "outputs": []
    },
    {
      "cell_type": "code",
      "source": [
        "# Mengisi missing value dengan mean (rata-rata)\n",
        "data7['director_facebook_likes'] = data7['director_facebook_likes'].fillna((data7['director_facebook_likes'].mean()))\n",
        "data7['num_user_for_reviews'] = data7['num_user_for_reviews'].fillna((data7['num_user_for_reviews'].mean()))\n",
        "data7['num_critic_for_reviews'] = data7['num_critic_for_reviews'].fillna((data7['num_critic_for_reviews'].mean()))\n",
        "\n",
        "np.sum(data7.isnull())"
      ],
      "metadata": {
        "id": "E7UVYzxLW1m1"
      },
      "execution_count": null,
      "outputs": []
    },
    {
      "cell_type": "code",
      "source": [
        "# Drop baris missing value\n",
        "data7 = data7.dropna(subset=['facenumber_in_poster'])\n",
        "data7 = data7.dropna(subset=['actor_1_facebook_likes'])\n",
        "data7 = data7.dropna(subset=['actor_2_facebook_likes'])\n",
        "\n",
        "np.sum(data7.isnull())"
      ],
      "metadata": {
        "id": "YK9DnoN0XLsz"
      },
      "execution_count": null,
      "outputs": []
    },
    {
      "cell_type": "code",
      "source": [
        "# Mengisi missing value dengan angka\n",
        "data7['actor_3_facebook_likes'] = data7['actor_3_facebook_likes'].fillna(645.009761)\n",
        "\n",
        "np.sum(data7.isnull())"
      ],
      "metadata": {
        "id": "9-UmPMNAXudz"
      },
      "execution_count": null,
      "outputs": []
    },
    {
      "cell_type": "code",
      "source": [
        "# Mengisi missing value dengan modus untuk data kualitatif/kategorikal\n",
        "# NOTE: Fungsi angka 0 di sini adalah untuk mengambil nilai pertama dari hasil modus jika ada beberapa nilai yang memiliki frekuensi yang sama\n",
        "data7['country'] = data7['country'].fillna(data7['country'].mode()[0])\n",
        "\n",
        "np.sum(data7.isnull())"
      ],
      "metadata": {
        "id": "EUHGCyaeX-0k"
      },
      "execution_count": null,
      "outputs": []
    },
    {
      "cell_type": "code",
      "source": [
        "# Library untuk keperluan aljabar linier, statistik, integrasi, dan optimisasi\n",
        "from scipy import stats"
      ],
      "metadata": {
        "id": "mgzC1oK3aJCb"
      },
      "execution_count": null,
      "outputs": []
    },
    {
      "cell_type": "code",
      "source": [
        "# Menentukan outlier pada kolom duration menggunakan z-score dari library SciPy\n",
        "# NOTE: data dikatakan sebagai outlier apabila nilai z-score > 3\n",
        "z1 = np.abs(stats.zscore(data7['duration']))\n",
        "print(z1)"
      ],
      "metadata": {
        "id": "jzTonC1BYRJX"
      },
      "execution_count": null,
      "outputs": []
    },
    {
      "cell_type": "code",
      "source": [
        "# Menentukan outlier pada kolom budget menggunakan z-score dari library SciPy\n",
        "# NOTE: data dikatakan sebagai outlier apabila nilai z-score > 3\n",
        "z2 = np.abs(stats.zscore(data7['budget']))\n",
        "print(z2)"
      ],
      "metadata": {
        "id": "xYWTrk_MZuPV"
      },
      "execution_count": null,
      "outputs": []
    },
    {
      "cell_type": "code",
      "source": [
        "# Menentukan outlier pada kolom gross menggunakan z-score dari library SciPy\n",
        "# NOTE: data dikatakan sebagai outlier apabila nilai z-score > 3\n",
        "z3 = np.abs(stats.zscore(data7['gross']))\n",
        "print(z3)"
      ],
      "metadata": {
        "id": "gtxAfVOwahxX"
      },
      "execution_count": null,
      "outputs": []
    },
    {
      "cell_type": "code",
      "source": [
        "# Menampilkan data outlier\n",
        "print(np.where(z1 > 3))\n",
        "print(np.where(z2 > 3))\n",
        "print(np.where(z3 > 3))"
      ],
      "metadata": {
        "id": "LPt-41zhaufH"
      },
      "execution_count": null,
      "outputs": []
    },
    {
      "cell_type": "code",
      "source": [
        "# Menampilkan jumlah data (non-missing value) pada setiap kolom\n",
        "data7.count()"
      ],
      "metadata": {
        "id": "zx9zupnybVjJ"
      },
      "execution_count": null,
      "outputs": []
    },
    {
      "cell_type": "code",
      "source": [
        "# Menghapus data outlier\n",
        "# Menghitung IQR (Interquartile Range) untuk kolom duration (kolom yang ingin dihapus outliernya)\n",
        "Q1 = data7['duration'].quantile(0.25)\n",
        "Q3 = data7['duration'].quantile(0.75)\n",
        "IQR = Q3 - Q1\n",
        "\n",
        "# Menentukan batas bawah dan batas atas untuk outlier\n",
        "lower_bound = Q1 - 1.5 * IQR\n",
        "upper_bound = Q3 + 1.5 * IQR\n",
        "\n",
        "# Membuat data frame tanpa outlier\n",
        "cleaned_data7 = data7[(data7['duration'] >= lower_bound) & (data7['duration'] <= upper_bound)]\n",
        "\n",
        "# Menampilkan jumlah data (non-missing value) pada setiap kolom\n",
        "cleaned_data7.count()"
      ],
      "metadata": {
        "id": "vSKfCRc2bkR4"
      },
      "execution_count": null,
      "outputs": []
    },
    {
      "cell_type": "code",
      "source": [
        "# Menghapus data outlier\n",
        "# Menghitung IQR (Interquartile Range) untuk kolom budget (kolom yang ingin dihapus outliernya)\n",
        "Q1 = data7['budget'].quantile(0.25)\n",
        "Q3 = data7['budget'].quantile(0.75)\n",
        "IQR = Q3 - Q1\n",
        "\n",
        "# Menentukan batas bawah dan batas atas untuk outlier\n",
        "lower_bound = Q1 - 1.5 * IQR\n",
        "upper_bound = Q3 + 1.5 * IQR\n",
        "\n",
        "# Membuat data frame tanpa outlier\n",
        "cleaned_data7 = data7[(data7['budget'] >= lower_bound) & (data7['budget'] <= upper_bound)]\n",
        "\n",
        "# Menampilkan jumlah data (non-missing value) pada setiap kolom\n",
        "cleaned_data7.count()"
      ],
      "metadata": {
        "id": "IfEqDYIjcXIr"
      },
      "execution_count": null,
      "outputs": []
    },
    {
      "cell_type": "code",
      "source": [
        "# Menghapus data outlier\n",
        "# Menghitung IQR (Interquartile Range) untuk kolom gross (kolom yang ingin dihapus outliernya)\n",
        "Q1 = data7['gross'].quantile(0.25)\n",
        "Q3 = data7['gross'].quantile(0.75)\n",
        "IQR = Q3 - Q1\n",
        "\n",
        "# Menentukan batas bawah dan batas atas untuk outlier\n",
        "lower_bound = Q1 - 1.5 * IQR\n",
        "upper_bound = Q3 + 1.5 * IQR\n",
        "\n",
        "# Membuat data frame tanpa outlier\n",
        "cleaned_data7 = data7[(data7['gross'] >= lower_bound) & (data7['gross'] <= upper_bound)]\n",
        "\n",
        "# Menampilkan jumlah data (non-missing value) pada setiap kolom\n",
        "cleaned_data7.count()"
      ],
      "metadata": {
        "id": "AR3ZCp69dFHW"
      },
      "execution_count": null,
      "outputs": []
    }
  ]
}